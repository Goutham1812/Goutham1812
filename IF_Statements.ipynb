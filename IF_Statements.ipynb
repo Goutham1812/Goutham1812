{
  "nbformat": 4,
  "nbformat_minor": 0,
  "metadata": {
    "colab": {
      "provenance": [],
      "authorship_tag": "ABX9TyOzHvaSJPanv5XgqbH96YeO",
      "include_colab_link": true
    },
    "kernelspec": {
      "name": "python3",
      "display_name": "Python 3"
    },
    "language_info": {
      "name": "python"
    }
  },
  "cells": [
    {
      "cell_type": "markdown",
      "metadata": {
        "id": "view-in-github",
        "colab_type": "text"
      },
      "source": [
        "<a href=\"https://colab.research.google.com/github/Goutham1812/Goutham1812/blob/main/IF_Statements.ipynb\" target=\"_parent\"><img src=\"https://colab.research.google.com/assets/colab-badge.svg\" alt=\"Open In Colab\"/></a>"
      ]
    },
    {
      "cell_type": "code",
      "execution_count": 4,
      "metadata": {
        "colab": {
          "base_uri": "https://localhost:8080/"
        },
        "id": "ryzo6tIhwJsB",
        "outputId": "cace05e0-c506-4994-c63d-c55312cec5a2"
      },
      "outputs": [
        {
          "output_type": "stream",
          "name": "stdout",
          "text": [
            "a is lesser than b\n"
          ]
        }
      ],
      "source": [
        "# IF Statments\n",
        "\n",
        "a =15\n",
        "b =25\n",
        "\n",
        "if a>b:\n",
        "    print(\"a is greater than b\")\n",
        "\n",
        "if a<b:\n",
        "    print(\"a is lesser than b\")\n"
      ]
    },
    {
      "cell_type": "code",
      "source": [
        "# using Else statement\n",
        "\n",
        "a =15\n",
        "b =25\n",
        "\n",
        "if a>b:\n",
        "    print(\"a is greater than b\")\n",
        "\n",
        "else:\n",
        "    print(\"a is not greater than b\")\n"
      ],
      "metadata": {
        "colab": {
          "base_uri": "https://localhost:8080/"
        },
        "id": "cARclDt2zdBA",
        "outputId": "73a2ef1c-f291-4da7-84a3-ab1c3ff61053"
      },
      "execution_count": 5,
      "outputs": [
        {
          "output_type": "stream",
          "name": "stdout",
          "text": [
            "a is not greater than b\n"
          ]
        }
      ]
    },
    {
      "cell_type": "code",
      "source": [
        "# using elif statement\n",
        "\n",
        "a=20\n",
        "b=35\n",
        "c=45\n",
        "\n",
        "if (a>b & a>c):\n",
        "    print(\" a is the greatest\")\n",
        "\n",
        "elif (b>a & b>c):\n",
        "     print(\"b is the greatest\")\n",
        "\n",
        "else:\n",
        "      print(\"c is greatest of all\")"
      ],
      "metadata": {
        "colab": {
          "base_uri": "https://localhost:8080/"
        },
        "id": "W5elvqBz0Alt",
        "outputId": "886f4f3a-1d3e-4852-99b0-750706765390"
      },
      "execution_count": 6,
      "outputs": [
        {
          "output_type": "stream",
          "name": "stdout",
          "text": [
            "c is greatest of all\n"
          ]
        }
      ]
    },
    {
      "cell_type": "code",
      "source": [
        "# using tuple statment with if statemtns\n",
        "\n",
        "tup1= (1,55.6,\"Goutham\",\"abb\",265)\n",
        "\n",
        "if \"Goutham\" in tup1:\n",
        "\n",
        "     print(\" He is Present\")\n",
        "\n",
        "else:\n",
        "     print(\"He is absent\")\n",
        ""
      ],
      "metadata": {
        "colab": {
          "base_uri": "https://localhost:8080/"
        },
        "id": "o5l8fw3007R6",
        "outputId": "fba5d74a-0948-4c83-9eb1-a036f676ebe3"
      },
      "execution_count": 7,
      "outputs": [
        {
          "output_type": "stream",
          "name": "stdout",
          "text": [
            " He is Present\n"
          ]
        }
      ]
    },
    {
      "cell_type": "code",
      "source": [
        "# if with list\n",
        "\n",
        "\n",
        "l1 = [1,\"Goutham\",356,365]\n",
        "\n",
        "if l1[3]==365:\n",
        "   l1[3]=l1[3]+100\n",
        "\n",
        "l1"
      ],
      "metadata": {
        "colab": {
          "base_uri": "https://localhost:8080/"
        },
        "id": "HP6IoVWH2AP0",
        "outputId": "30590755-e735-4dfe-ddfb-c878475b9b96"
      },
      "execution_count": 9,
      "outputs": [
        {
          "output_type": "execute_result",
          "data": {
            "text/plain": [
              "[1, 'Goutham', 356, 465]"
            ]
          },
          "metadata": {},
          "execution_count": 9
        }
      ]
    },
    {
      "cell_type": "code",
      "source": [
        "# if else with list\n",
        "\n",
        "\n",
        "l1 = [1,\"Goutham\",356,365]\n",
        "\n",
        "if l1[3]==36:\n",
        "   l1[3]=l1[3]+100\n",
        "\n",
        "else:\n",
        "  l1[3]=l1[3]+200\n",
        "\n",
        "l1"
      ],
      "metadata": {
        "colab": {
          "base_uri": "https://localhost:8080/"
        },
        "id": "WtMv25AE3fRg",
        "outputId": "781439ca-5f86-4f14-de8d-7f391ac719ed"
      },
      "execution_count": 11,
      "outputs": [
        {
          "output_type": "execute_result",
          "data": {
            "text/plain": [
              "[1, 'Goutham', 356, 565]"
            ]
          },
          "metadata": {},
          "execution_count": 11
        }
      ]
    },
    {
      "cell_type": "code",
      "source": [
        "# If with dictionary\n",
        "\n",
        "d1 = {\"apple\":10,\"bb\":22,\"c\":33}\n",
        "if d1[\"bb\"]==22:\n",
        "    print(\"Other than apple bougth something 22\")\n",
        "\n",
        "else :\n",
        "   print(\"error in buying\")"
      ],
      "metadata": {
        "colab": {
          "base_uri": "https://localhost:8080/"
        },
        "id": "uUKRJitP306B",
        "outputId": "cddf368b-1a10-4b0c-9ef0-6bc0dc3e387a"
      },
      "execution_count": 15,
      "outputs": [
        {
          "output_type": "stream",
          "name": "stdout",
          "text": [
            "Other than apple bougth something 22\n"
          ]
        }
      ]
    }
  ]
}
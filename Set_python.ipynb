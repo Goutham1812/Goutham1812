{
  "nbformat": 4,
  "nbformat_minor": 0,
  "metadata": {
    "colab": {
      "provenance": [],
      "authorship_tag": "ABX9TyOb8pinF30X2KzlgjzbnVr7",
      "include_colab_link": true
    },
    "kernelspec": {
      "name": "python3",
      "display_name": "Python 3"
    },
    "language_info": {
      "name": "python"
    }
  },
  "cells": [
    {
      "cell_type": "markdown",
      "metadata": {
        "id": "view-in-github",
        "colab_type": "text"
      },
      "source": [
        "<a href=\"https://colab.research.google.com/github/Goutham1812/Goutham1812/blob/Python/Set_python.ipynb\" target=\"_parent\"><img src=\"https://colab.research.google.com/assets/colab-badge.svg\" alt=\"Open In Colab\"/></a>"
      ]
    },
    {
      "cell_type": "code",
      "execution_count": 3,
      "metadata": {
        "colab": {
          "base_uri": "https://localhost:8080/"
        },
        "id": "pEloLu5tqfr6",
        "outputId": "9fc246e8-a409-499f-9a42-778fa2d57917"
      },
      "outputs": [
        {
          "output_type": "execute_result",
          "data": {
            "text/plain": [
              "{1, 'Goutham', 'goutham'}"
            ]
          },
          "metadata": {},
          "execution_count": 3
        }
      ],
      "source": [
        "# set in python # Doesn't allow duplicates\n",
        "# whereas they are case sensitive and it can repeat the string or allow to come.\n",
        "s1 = {1,\"Goutham\",\"Goutham\",\"goutham\"}\n",
        "s1"
      ]
    },
    {
      "cell_type": "code",
      "source": [
        "# Adding a new element\n",
        "s1 = {1,\"Goutham\",\"Goutham\",\"a\",True,\"b\"}\n",
        "s1.add(\"Hello\")\n",
        "s1"
      ],
      "metadata": {
        "colab": {
          "base_uri": "https://localhost:8080/"
        },
        "id": "uGzDJOw-rUKl",
        "outputId": "058bf294-f218-4538-fed0-50d3368e8e96"
      },
      "execution_count": 5,
      "outputs": [
        {
          "output_type": "execute_result",
          "data": {
            "text/plain": [
              "{1, 'Goutham', 'Hello', 'a', 'b'}"
            ]
          },
          "metadata": {},
          "execution_count": 5
        }
      ]
    },
    {
      "cell_type": "code",
      "source": [
        "# Removing an element\n",
        "s1 = {1,\"Goutham\",\"Goutham\",\"a\",True,\"b\",\"Hello\"}\n",
        "s1.remove(\"a\")\n",
        "s1"
      ],
      "metadata": {
        "colab": {
          "base_uri": "https://localhost:8080/"
        },
        "id": "t9dqURzosO-f",
        "outputId": "d73217c2-7659-437f-97fa-e6968bc94b61"
      },
      "execution_count": 9,
      "outputs": [
        {
          "output_type": "execute_result",
          "data": {
            "text/plain": [
              "{1, 'Goutham', 'Hello', 'b'}"
            ]
          },
          "metadata": {},
          "execution_count": 9
        }
      ]
    },
    {
      "cell_type": "code",
      "source": [
        "#UPDATE MULTIPLE ELEMENTS\n",
        "s1 = {1,\"Goutham\",\"Goutham\",\"a\",True,\"b\",\"Hello\"}\n",
        "s1.update([10,20,30,\"aa\",])\n",
        "s1"
      ],
      "metadata": {
        "colab": {
          "base_uri": "https://localhost:8080/"
        },
        "id": "Fs3vqvy9tL_4",
        "outputId": "258533b2-104b-4511-e200-031d1a0ae796"
      },
      "execution_count": 10,
      "outputs": [
        {
          "output_type": "execute_result",
          "data": {
            "text/plain": [
              "{1, 10, 20, 30, 'Goutham', 'Hello', 'a', 'aa', 'b'}"
            ]
          },
          "metadata": {},
          "execution_count": 10
        }
      ]
    },
    {
      "cell_type": "code",
      "source": [
        "# union function in set\n",
        "s1 = {1,\"Goutham\",\"a\",True,\"b\",\"Hello\"}\n",
        "s2 = {\"aa\",25,66.3,\"bb\"}\n",
        "s1.union(s2)"
      ],
      "metadata": {
        "colab": {
          "base_uri": "https://localhost:8080/"
        },
        "id": "T6h5OXbKt9J0",
        "outputId": "ec963ade-41a4-40d8-d6b2-0d855517f991"
      },
      "execution_count": 11,
      "outputs": [
        {
          "output_type": "execute_result",
          "data": {
            "text/plain": [
              "{1, 25, 66.3, 'Goutham', 'Hello', 'a', 'aa', 'b', 'bb'}"
            ]
          },
          "metadata": {},
          "execution_count": 11
        }
      ]
    },
    {
      "cell_type": "code",
      "source": [
        "# To find the common elements between the sets we use INTERSECTION\n",
        "s1 = {1,\"Goutham\",\"a\",True,\"b\",\"Hello\"}\n",
        "s2 =  {\"Goutham\",\"aa\",True,\"hi\"}\n",
        "s1.intersection(s2)"
      ],
      "metadata": {
        "colab": {
          "base_uri": "https://localhost:8080/"
        },
        "id": "vIO3zwbUuTVH",
        "outputId": "9a043c59-283a-4a86-a4e6-fbf262b82833"
      },
      "execution_count": 12,
      "outputs": [
        {
          "output_type": "execute_result",
          "data": {
            "text/plain": [
              "{'Goutham', True}"
            ]
          },
          "metadata": {},
          "execution_count": 12
        }
      ]
    }
  ]
}
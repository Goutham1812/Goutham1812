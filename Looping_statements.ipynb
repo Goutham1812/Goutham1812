{
  "nbformat": 4,
  "nbformat_minor": 0,
  "metadata": {
    "colab": {
      "provenance": [],
      "authorship_tag": "ABX9TyMNivNY4uY8gvIRpc3h3WZL",
      "include_colab_link": true
    },
    "kernelspec": {
      "name": "python3",
      "display_name": "Python 3"
    },
    "language_info": {
      "name": "python"
    }
  },
  "cells": [
    {
      "cell_type": "markdown",
      "metadata": {
        "id": "view-in-github",
        "colab_type": "text"
      },
      "source": [
        "<a href=\"https://colab.research.google.com/github/Goutham1812/Goutham1812/blob/Python/Looping_statements.ipynb\" target=\"_parent\"><img src=\"https://colab.research.google.com/assets/colab-badge.svg\" alt=\"Open In Colab\"/></a>"
      ]
    },
    {
      "cell_type": "code",
      "execution_count": 9,
      "metadata": {
        "colab": {
          "base_uri": "https://localhost:8080/"
        },
        "id": "UX2fqLZU5ztI",
        "outputId": "0c829a80-4ccc-4640-83bc-29b005b1c339"
      },
      "outputs": [
        {
          "output_type": "stream",
          "name": "stdout",
          "text": [
            "1\n",
            "2\n",
            "3\n",
            "4\n",
            "5\n",
            "6\n",
            "7\n",
            "8\n",
            "9\n",
            "10\n",
            "11\n",
            "12\n",
            "13\n",
            "14\n",
            "15\n"
          ]
        }
      ],
      "source": [
        "# loop statements\n",
        "\n",
        "# using loop we can write the results from 1 to n number\n",
        "\n",
        "i =1\n",
        "while  i<=15:\n",
        "       print(i)\n",
        "       i=i+1"
      ]
    },
    {
      "cell_type": "code",
      "source": [
        "# Creating 2 Tables using Python\n",
        "\n",
        "i = 2\n",
        "while i<=25:\n",
        "  print(i)\n",
        "  i=i+2"
      ],
      "metadata": {
        "colab": {
          "base_uri": "https://localhost:8080/"
        },
        "id": "8QMR_z_H7VBH",
        "outputId": "9659ac93-e6c8-45d7-a9ee-fea48d51589c"
      },
      "execution_count": 11,
      "outputs": [
        {
          "output_type": "stream",
          "name": "stdout",
          "text": [
            "2\n",
            "4\n",
            "6\n",
            "8\n",
            "10\n",
            "12\n",
            "14\n",
            "16\n",
            "18\n",
            "20\n",
            "22\n",
            "24\n"
          ]
        }
      ]
    },
    {
      "cell_type": "code",
      "source": [
        "# Creating 6 tables using python\n",
        "\n",
        "n=1\n",
        "i=6\n",
        "while n<=10:\n",
        "     print(i,\"*\",n,\"=\",n*i)\n",
        "     n=n+1      #it has to be inside the loop that means not start at the beginneing and should be equla with print value"
      ],
      "metadata": {
        "colab": {
          "base_uri": "https://localhost:8080/"
        },
        "id": "drQPx1AP8dOX",
        "outputId": "e3a02c91-e2f6-40f4-89f6-38ed007c2eff"
      },
      "execution_count": 29,
      "outputs": [
        {
          "output_type": "stream",
          "name": "stdout",
          "text": [
            "6 * 1 = 6\n",
            "6 * 2 = 12\n",
            "6 * 3 = 18\n",
            "6 * 4 = 24\n",
            "6 * 5 = 30\n",
            "6 * 6 = 36\n",
            "6 * 7 = 42\n",
            "6 * 8 = 48\n",
            "6 * 9 = 54\n",
            "6 * 10 = 60\n"
          ]
        }
      ]
    },
    {
      "cell_type": "code",
      "source": [
        "# creating a triangular * matrix\n",
        "\n",
        "i=1\n",
        "n=\"*\"\n",
        "while i<=10:\n",
        "    print(\"*\")\n",
        "    i=i+1"
      ],
      "metadata": {
        "colab": {
          "base_uri": "https://localhost:8080/"
        },
        "id": "UkEXYpmJ_KXj",
        "outputId": "62aa4794-5b9b-4c29-bb4e-6e465a9f0599"
      },
      "execution_count": 32,
      "outputs": [
        {
          "output_type": "stream",
          "name": "stdout",
          "text": [
            "*\n",
            "*\n",
            "*\n",
            "*\n",
            "*\n",
            "*\n",
            "*\n",
            "*\n",
            "*\n",
            "*\n"
          ]
        }
      ]
    },
    {
      "cell_type": "code",
      "source": [
        "n = 5  # You can adjust the number of rows as needed\n",
        "i = 1\n",
        "\n",
        "while i <= n:\n",
        "    j = 1\n",
        "    while j <= i:\n",
        "        print('*', end=' ')\n",
        "        j = j + 1\n",
        "    print()\n",
        "    i = i + 1\n"
      ],
      "metadata": {
        "colab": {
          "base_uri": "https://localhost:8080/"
        },
        "id": "wZ3sMIBg_7W8",
        "outputId": "31d05327-88f0-4999-a3f3-bba01e5a7f5a"
      },
      "execution_count": 34,
      "outputs": [
        {
          "output_type": "stream",
          "name": "stdout",
          "text": [
            "* \n",
            "* * \n",
            "* * * \n",
            "* * * * \n",
            "* * * * * \n"
          ]
        }
      ]
    },
    {
      "cell_type": "code",
      "source": [
        "n = 10  # Adjust the number of rows as needed\n",
        "i = 1\n",
        "\n",
        "while i <= n:\n",
        "    print('* ' * i)\n",
        "    i = i + 1"
      ],
      "metadata": {
        "colab": {
          "base_uri": "https://localhost:8080/"
        },
        "id": "-JTBb5YaATCi",
        "outputId": "fa2baf19-bbb0-431f-f8c9-d5b2fbd952c5"
      },
      "execution_count": 39,
      "outputs": [
        {
          "output_type": "stream",
          "name": "stdout",
          "text": [
            "* \n",
            "* * \n",
            "* * * \n",
            "* * * * \n",
            "* * * * * \n",
            "* * * * * * \n",
            "* * * * * * * \n",
            "* * * * * * * * \n",
            "* * * * * * * * * \n",
            "* * * * * * * * * * \n"
          ]
        }
      ]
    },
    {
      "cell_type": "code",
      "source": [
        "n = 5  # Adjust the number of rows as needed\n",
        "i = 5\n",
        "\n",
        "while i >= 1:\n",
        "    print('* ' * i)\n",
        "    i = i - 1"
      ],
      "metadata": {
        "colab": {
          "base_uri": "https://localhost:8080/"
        },
        "id": "J8kLCbVGDM0w",
        "outputId": "c1d88398-424b-4062-e9cb-4d4c0539c4c9"
      },
      "execution_count": 46,
      "outputs": [
        {
          "output_type": "stream",
          "name": "stdout",
          "text": [
            "* * * * * \n",
            "* * * * \n",
            "* * * \n",
            "* * \n",
            "* \n"
          ]
        }
      ]
    },
    {
      "cell_type": "code",
      "source": [
        "# list funtions in loop statements\n",
        "\n",
        "l1 = [1,2,3,4,5,55.6]\n",
        "i=0\n",
        "while i< len(l1):            #In this example, length_of_l1 would be equal to 6, as there are six elements in the list l1.\n",
        "                              # Keep in mind that Python uses zero-based indexing, so the valid indices for the list range from 0 to len(l1) - 1.\n",
        "  l1[i]=l1[i]+100\n",
        "  i=i+1\n",
        "print(l1)"
      ],
      "metadata": {
        "colab": {
          "base_uri": "https://localhost:8080/"
        },
        "id": "7697ny2iD1x7",
        "outputId": "410107c2-d1c7-4598-8e6a-d6c34c6a6677"
      },
      "execution_count": 53,
      "outputs": [
        {
          "output_type": "stream",
          "name": "stdout",
          "text": [
            "[101, 102, 103, 104, 105, 155.6]\n"
          ]
        }
      ]
    },
    {
      "cell_type": "code",
      "source": [
        "# Loop statremetn with \"For Loop\" it is used to iterate over sequence of tuple,list,dictionary,etc\n",
        "\n",
        "l1=[\"apple\",\"bannana\",\"orange\"]\n",
        "for i in l1:\n",
        "  print(i)"
      ],
      "metadata": {
        "colab": {
          "base_uri": "https://localhost:8080/"
        },
        "id": "6MaWDa61F65l",
        "outputId": "3a186d00-1495-4606-9a1a-d84a259653dc"
      },
      "execution_count": 54,
      "outputs": [
        {
          "output_type": "stream",
          "name": "stdout",
          "text": [
            "apple\n",
            "bannana\n",
            "orange\n"
          ]
        }
      ]
    },
    {
      "cell_type": "code",
      "source": [
        "# combining the 2 lists using for loop statement\n",
        "\n",
        "#nested for loops\n",
        "\n",
        "l1=[\"greeen\",\"red\",\"yellow\",\"black\"]\n",
        "l2=[\"chair\",\"pen\",\"ball\",\"book\"]\n",
        "\n",
        "for i in l1:\n",
        "  for j in l2:\n",
        "    print(i,j)"
      ],
      "metadata": {
        "colab": {
          "base_uri": "https://localhost:8080/"
        },
        "id": "6a-6O1TPHV84",
        "outputId": "a23b0ee9-00b0-4f64-f169-b43f6e227244"
      },
      "execution_count": 55,
      "outputs": [
        {
          "output_type": "stream",
          "name": "stdout",
          "text": [
            "greeen chair\n",
            "greeen pen\n",
            "greeen ball\n",
            "greeen book\n",
            "red chair\n",
            "red pen\n",
            "red ball\n",
            "red book\n",
            "yellow chair\n",
            "yellow pen\n",
            "yellow ball\n",
            "yellow book\n",
            "black chair\n",
            "black pen\n",
            "black ball\n",
            "black book\n"
          ]
        }
      ]
    }
  ]
}
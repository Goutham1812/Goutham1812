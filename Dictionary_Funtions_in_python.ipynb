{
  "nbformat": 4,
  "nbformat_minor": 0,
  "metadata": {
    "colab": {
      "provenance": [],
      "authorship_tag": "ABX9TyMc1V5WR3lkGPpfR7EPDhYW",
      "include_colab_link": true
    },
    "kernelspec": {
      "name": "python3",
      "display_name": "Python 3"
    },
    "language_info": {
      "name": "python"
    }
  },
  "cells": [
    {
      "cell_type": "markdown",
      "metadata": {
        "id": "view-in-github",
        "colab_type": "text"
      },
      "source": [
        "<a href=\"https://colab.research.google.com/github/Goutham1812/Goutham1812/blob/Python/Dictionary_Funtions_in_python.ipynb\" target=\"_parent\"><img src=\"https://colab.research.google.com/assets/colab-badge.svg\" alt=\"Open In Colab\"/></a>"
      ]
    },
    {
      "cell_type": "code",
      "execution_count": 2,
      "metadata": {
        "colab": {
          "base_uri": "https://localhost:8080/"
        },
        "id": "4kC5DprrghG-",
        "outputId": "3952a27a-1c08-4bda-a420-d33154f22d7c"
      },
      "outputs": [
        {
          "output_type": "execute_result",
          "data": {
            "text/plain": [
              "dict"
            ]
          },
          "metadata": {},
          "execution_count": 2
        }
      ],
      "source": [
        "# Dictionary\n",
        "fruit = {\"apple\":10,\"orange\":20}\n",
        "type(fruit)"
      ]
    },
    {
      "cell_type": "code",
      "source": [
        "# Extracting the Keys\n",
        "fruit = {\"apple\":10,\"banana\":20,\"peach\":30}\n",
        "fruit.keys()"
      ],
      "metadata": {
        "colab": {
          "base_uri": "https://localhost:8080/"
        },
        "id": "G2ANWnRqhSBL",
        "outputId": "f0cd96bd-92e4-42e8-cd57-47a39caaf7e3"
      },
      "execution_count": 3,
      "outputs": [
        {
          "output_type": "execute_result",
          "data": {
            "text/plain": [
              "dict_keys(['apple', 'banana', 'peach'])"
            ]
          },
          "metadata": {},
          "execution_count": 3
        }
      ]
    },
    {
      "cell_type": "code",
      "source": [
        "# Extracting the values\n",
        "fruit = {\"apple\":10,\"banana\":20,\"peach\":30}\n",
        "fruit.values()"
      ],
      "metadata": {
        "colab": {
          "base_uri": "https://localhost:8080/"
        },
        "id": "Zv5C7t5Fhpqz",
        "outputId": "1bddc045-277f-463e-cb88-41f8ccf117d5"
      },
      "execution_count": 4,
      "outputs": [
        {
          "output_type": "execute_result",
          "data": {
            "text/plain": [
              "dict_values([10, 20, 30])"
            ]
          },
          "metadata": {},
          "execution_count": 4
        }
      ]
    },
    {
      "cell_type": "code",
      "source": [
        "# Dictionary are mutable and Adding a new element\n",
        "fruit = {\"apple\":10,\"banana\":20,\"peach\":30}\n",
        "fruit [\"mango\"]=50\n",
        "fruit"
      ],
      "metadata": {
        "colab": {
          "base_uri": "https://localhost:8080/"
        },
        "id": "4APxkiOtiTdt",
        "outputId": "ff569ffe-0cc5-4b54-fe46-474fb3659a8a"
      },
      "execution_count": 5,
      "outputs": [
        {
          "output_type": "execute_result",
          "data": {
            "text/plain": [
              "{'apple': 10, 'banana': 20, 'peach': 30, 'mango': 50}"
            ]
          },
          "metadata": {},
          "execution_count": 5
        }
      ]
    },
    {
      "cell_type": "code",
      "source": [
        "# Changing the existing element\n",
        "fruit = {\"apple\":10,\"banana\":20,\"peach\":30}\n",
        "fruit [\"apple\"]=50\n",
        "fruit"
      ],
      "metadata": {
        "colab": {
          "base_uri": "https://localhost:8080/"
        },
        "id": "amCwoMLqlsvg",
        "outputId": "265632c1-becf-451c-e73b-ca9808ac1a2a"
      },
      "execution_count": 6,
      "outputs": [
        {
          "output_type": "execute_result",
          "data": {
            "text/plain": [
              "{'apple': 50, 'banana': 20, 'peach': 30}"
            ]
          },
          "metadata": {},
          "execution_count": 6
        }
      ]
    },
    {
      "cell_type": "code",
      "source": [
        "#update on one's dictionary element with another\n",
        "fruit1={\"apple\":10,\"banana\":20,\"peach\":30}\n",
        "fruit2={\"guva\":40,\"orange\":45}\n",
        "fruit1.update(fruit2)\n",
        "fruit1"
      ],
      "metadata": {
        "colab": {
          "base_uri": "https://localhost:8080/"
        },
        "id": "x9dMsP8zmuHl",
        "outputId": "01555ca2-b855-4e26-a6ca-98f6dd3a6fb2"
      },
      "execution_count": 13,
      "outputs": [
        {
          "output_type": "execute_result",
          "data": {
            "text/plain": [
              "{'apple': 10, 'banana': 20, 'peach': 30, 'guva': 40, 'orange': 45}"
            ]
          },
          "metadata": {},
          "execution_count": 13
        }
      ]
    },
    {
      "cell_type": "code",
      "source": [
        "# poping an element\n",
        "fruit1={\"apple\":10,\"banana\":20,\"peach\":30}\n",
        "fruit1.pop(\"apple\")\n",
        "fruit1"
      ],
      "metadata": {
        "colab": {
          "base_uri": "https://localhost:8080/"
        },
        "id": "8dbPUnBYn2H_",
        "outputId": "f6d02e60-6a66-404c-8f84-0bd2c39d883f"
      },
      "execution_count": 14,
      "outputs": [
        {
          "output_type": "execute_result",
          "data": {
            "text/plain": [
              "{'banana': 20, 'peach': 30}"
            ]
          },
          "metadata": {},
          "execution_count": 14
        }
      ]
    }
  ]
}